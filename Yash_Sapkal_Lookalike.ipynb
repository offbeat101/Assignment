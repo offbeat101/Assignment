{
  "nbformat": 4,
  "nbformat_minor": 0,
  "metadata": {
    "colab": {
      "provenance": []
    },
    "kernelspec": {
      "name": "python3",
      "display_name": "Python 3"
    },
    "language_info": {
      "name": "python"
    }
  },
  "cells": [
    {
      "cell_type": "code",
      "execution_count": 3,
      "metadata": {
        "id": "5c9AKLztv-79"
      },
      "outputs": [],
      "source": [
        "import pandas as pd\n",
        "from sklearn.metrics.pairwise import cosine_similarity\n",
        "from sklearn.preprocessing import OneHotEncoder, MinMaxScaler\n",
        "import numpy as np"
      ]
    },
    {
      "cell_type": "code",
      "source": [
        "customers = pd.read_csv('Customers.csv')\n",
        "transactions = pd.read_csv('Transactions.csv')\n",
        "products = pd.read_csv('Products.csv')\n"
      ],
      "metadata": {
        "id": "MQlVZDqsyF5E"
      },
      "execution_count": 4,
      "outputs": []
    },
    {
      "cell_type": "code",
      "source": [
        "merged = transactions.merge(products, on=\"ProductID\").merge(customers, on=\"CustomerID\")\n"
      ],
      "metadata": {
        "id": "Gov8tsDoyA53"
      },
      "execution_count": 5,
      "outputs": []
    },
    {
      "cell_type": "code",
      "source": [
        "encoder = OneHotEncoder()\n",
        "encoded_region = encoder.fit_transform(customers[[\"Region\"]]).toarray()"
      ],
      "metadata": {
        "id": "hRquaWFGzBDq"
      },
      "execution_count": 6,
      "outputs": []
    },
    {
      "cell_type": "code",
      "source": [
        "customer_features = merged.groupby(\"CustomerID\").agg({\n",
        "    \"TotalValue\": \"sum\",\n",
        "    \"Quantity\": \"sum\",\n",
        "    \"Category\": lambda x: list(x) if isinstance(x, list) else []\n",
        "}).reset_index()"
      ],
      "metadata": {
        "id": "4Zhe1FHKzFEF"
      },
      "execution_count": 7,
      "outputs": []
    },
    {
      "cell_type": "code",
      "source": [
        "region_df = pd.DataFrame(encoded_region, columns=encoder.get_feature_names_out([\"Region\"]))\n",
        "customer_features = pd.concat([customer_features, region_df], axis=1)"
      ],
      "metadata": {
        "id": "8rxBs4xDzGdh"
      },
      "execution_count": 8,
      "outputs": []
    },
    {
      "cell_type": "code",
      "source": [
        "category_encoder = OneHotEncoder()\n",
        "category_encoded = category_encoder.fit_transform(\n",
        "    customer_features[\"Category\"].apply(lambda x: x if isinstance(x, list) else []).explode().to_frame()\n",
        ").toarray()"
      ],
      "metadata": {
        "id": "OIydJr-czKLb"
      },
      "execution_count": 9,
      "outputs": []
    },
    {
      "cell_type": "code",
      "source": [
        "scaler = MinMaxScaler()\n",
        "numeric_features = scaler.fit_transform(customer_features[[\"TotalValue\", \"Quantity\"]].fillna(0))\n",
        "customer_matrix = np.hstack((\n",
        "    numeric_features,\n",
        "    category_encoded\n",
        "))\n"
      ],
      "metadata": {
        "id": "6jjlRj3HzQs0"
      },
      "execution_count": 14,
      "outputs": []
    },
    {
      "cell_type": "code",
      "source": [
        "similarity_matrix = cosine_similarity(customer_matrix)\n",
        "\n",
        "top_lookalikes = {}\n",
        "customer_ids = customers[\"CustomerID\"][:20]"
      ],
      "metadata": {
        "id": "Gw-d9sIbzUhN"
      },
      "execution_count": 15,
      "outputs": []
    },
    {
      "cell_type": "code",
      "source": [
        "for idx, customer_id in enumerate(customer_ids):\n",
        "    similar_indices = np.argsort(-similarity_matrix[idx])[1:4]\n",
        "    top_lookalikes[customer_id] = [\n",
        "        (customers.iloc[sim_idx][\"CustomerID\"], similarity_matrix[idx, sim_idx])\n",
        "        for sim_idx in similar_indices\n",
        "    ]\n"
      ],
      "metadata": {
        "id": "iIkK-JIE0Dvz"
      },
      "execution_count": 16,
      "outputs": []
    },
    {
      "cell_type": "code",
      "source": [
        "lookalike_data = {\"CustomerID\": [], \"Lookalikes\": []}\n",
        "for cust_id, lookalikes in top_lookalikes.items():\n",
        "    lookalike_data[\"CustomerID\"].append(cust_id)\n",
        "    lookalike_data[\"Lookalikes\"].append(lookalikes)\n",
        "\n",
        "lookalike_df = pd.DataFrame(lookalike_data)\n",
        "output_file = \"Yash_Sapkal_Lookalike.csv\"\n",
        "lookalike_df.to_csv(output_file, index=False)\n",
        "\n",
        "output_file"
      ],
      "metadata": {
        "colab": {
          "base_uri": "https://localhost:8080/",
          "height": 35
        },
        "id": "wncTz82L0XjV",
        "outputId": "cabd3ceb-161c-46a3-ab59-0eeb35213864"
      },
      "execution_count": 19,
      "outputs": [
        {
          "output_type": "execute_result",
          "data": {
            "text/plain": [
              "'Yash_Sapkal_Lookalike.csv'"
            ],
            "application/vnd.google.colaboratory.intrinsic+json": {
              "type": "string"
            }
          },
          "metadata": {},
          "execution_count": 19
        }
      ]
    }
  ]
}